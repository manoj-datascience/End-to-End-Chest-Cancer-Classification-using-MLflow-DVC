{
 "cells": [
  {
   "cell_type": "markdown",
   "id": "6f788874-6254-412b-a95a-e8117298b5bb",
   "metadata": {},
   "source": [
    "### what is the config_box importance?"
   ]
  },
  {
   "cell_type": "markdown",
   "id": "2b14c7a6-05c0-425b-a80e-11d60d4e0a6a",
   "metadata": {},
   "source": [
    "#### --> we can access dict key's as obj.key with the config_box "
   ]
  },
  {
   "cell_type": "markdown",
   "id": "9c521d6d-e3bf-480a-a300-e402c725288a",
   "metadata": {},
   "source": [
    "#### --> if we dont't use config_box and then we cann't acces like that"
   ]
  },
  {
   "cell_type": "code",
   "execution_count": 1,
   "id": "3afcb857-2012-4c81-9f92-695c752d36c9",
   "metadata": {},
   "outputs": [],
   "source": [
    "dict_ = {'key1':'value1', 'key2':'value2'}"
   ]
  },
  {
   "cell_type": "code",
   "execution_count": 2,
   "id": "738509b7-3442-462a-8df1-48063281f38c",
   "metadata": {},
   "outputs": [
    {
     "ename": "AttributeError",
     "evalue": "'dict' object has no attribute 'key1'",
     "output_type": "error",
     "traceback": [
      "\u001b[1;31m---------------------------------------------------------------------------\u001b[0m",
      "\u001b[1;31mAttributeError\u001b[0m                            Traceback (most recent call last)",
      "Cell \u001b[1;32mIn[2], line 1\u001b[0m\n\u001b[1;32m----> 1\u001b[0m \u001b[43mdict_\u001b[49m\u001b[38;5;241;43m.\u001b[39;49m\u001b[43mkey1\u001b[49m\n",
      "\u001b[1;31mAttributeError\u001b[0m: 'dict' object has no attribute 'key1'"
     ]
    }
   ],
   "source": [
    "dict_.key1"
   ]
  },
  {
   "cell_type": "code",
   "execution_count": 4,
   "id": "81a68d32-eeef-476d-87c7-bae67328dc56",
   "metadata": {},
   "outputs": [],
   "source": [
    "import box"
   ]
  },
  {
   "cell_type": "code",
   "execution_count": 5,
   "id": "293fd9cb-aa26-404e-9fb6-03801bb7e229",
   "metadata": {},
   "outputs": [],
   "source": [
    "from box import ConfigBox"
   ]
  },
  {
   "cell_type": "code",
   "execution_count": 6,
   "id": "5569e975-9739-4cd7-9ec4-5c5fe45c7197",
   "metadata": {},
   "outputs": [],
   "source": [
    "config_dict = ConfigBox(dict_)"
   ]
  },
  {
   "cell_type": "code",
   "execution_count": 7,
   "id": "d7fd8bd6-1891-429a-b4ed-9f867d34c8ce",
   "metadata": {},
   "outputs": [
    {
     "data": {
      "text/plain": [
       "'value1'"
      ]
     },
     "execution_count": 7,
     "metadata": {},
     "output_type": "execute_result"
    }
   ],
   "source": [
    "config_dict.key1"
   ]
  },
  {
   "cell_type": "code",
   "execution_count": null,
   "id": "8e386f5f-4ef2-41e5-837a-8c26e43d6316",
   "metadata": {},
   "outputs": [],
   "source": []
  }
 ],
 "metadata": {
  "kernelspec": {
   "display_name": "Python 3 (ipykernel)",
   "language": "python",
   "name": "python3"
  },
  "language_info": {
   "codemirror_mode": {
    "name": "ipython",
    "version": 3
   },
   "file_extension": ".py",
   "mimetype": "text/x-python",
   "name": "python",
   "nbconvert_exporter": "python",
   "pygments_lexer": "ipython3",
   "version": "3.11.5"
  }
 },
 "nbformat": 4,
 "nbformat_minor": 5
}
