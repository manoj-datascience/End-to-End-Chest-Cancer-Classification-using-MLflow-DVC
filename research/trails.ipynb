{
 "cells": [
  {
   "cell_type": "markdown",
   "id": "6f788874-6254-412b-a95a-e8117298b5bb",
   "metadata": {},
   "source": [
    "### what is the config_box importance?\n",
    "#### --> our requiremnt is to access dict values with dot notation but can't access. with the configbox class we can access "
   ]
  },
  {
   "cell_type": "markdown",
   "id": "2b14c7a6-05c0-425b-a80e-11d60d4e0a6a",
   "metadata": {},
   "source": [
    "#### --> we can access dict key's as obj.key with the config_box "
   ]
  },
  {
   "cell_type": "markdown",
   "id": "9c521d6d-e3bf-480a-a300-e402c725288a",
   "metadata": {},
   "source": [
    "#### --> if we dont't use config_box and then we cann't acces like that"
   ]
  },
  {
   "cell_type": "code",
   "execution_count": 1,
   "id": "3afcb857-2012-4c81-9f92-695c752d36c9",
   "metadata": {},
   "outputs": [],
   "source": [
    "dict_ = {'key1':'value1', 'key2':'value2'}"
   ]
  },
  {
   "cell_type": "code",
   "execution_count": 2,
   "id": "738509b7-3442-462a-8df1-48063281f38c",
   "metadata": {},
   "outputs": [
    {
     "ename": "AttributeError",
     "evalue": "'dict' object has no attribute 'key1'",
     "output_type": "error",
     "traceback": [
      "\u001b[1;31m---------------------------------------------------------------------------\u001b[0m",
      "\u001b[1;31mAttributeError\u001b[0m                            Traceback (most recent call last)",
      "Cell \u001b[1;32mIn[2], line 1\u001b[0m\n\u001b[1;32m----> 1\u001b[0m \u001b[43mdict_\u001b[49m\u001b[38;5;241;43m.\u001b[39;49m\u001b[43mkey1\u001b[49m\n",
      "\u001b[1;31mAttributeError\u001b[0m: 'dict' object has no attribute 'key1'"
     ]
    }
   ],
   "source": [
    "dict_.key1"
   ]
  },
  {
   "cell_type": "code",
   "execution_count": null,
   "id": "81a68d32-eeef-476d-87c7-bae67328dc56",
   "metadata": {},
   "outputs": [],
   "source": [
    "import box"
   ]
  },
  {
   "cell_type": "code",
   "execution_count": null,
   "id": "293fd9cb-aa26-404e-9fb6-03801bb7e229",
   "metadata": {},
   "outputs": [],
   "source": [
    "from box import ConfigBox"
   ]
  },
  {
   "cell_type": "code",
   "execution_count": null,
   "id": "5569e975-9739-4cd7-9ec4-5c5fe45c7197",
   "metadata": {},
   "outputs": [],
   "source": [
    "config_dict = ConfigBox(dict_)"
   ]
  },
  {
   "cell_type": "code",
   "execution_count": null,
   "id": "d7fd8bd6-1891-429a-b4ed-9f867d34c8ce",
   "metadata": {},
   "outputs": [],
   "source": [
    "config_dict.key1"
   ]
  },
  {
   "cell_type": "markdown",
   "id": "4e7f7b99-9b04-4d67-a87f-2390500bf998",
   "metadata": {},
   "source": [
    "### imprtance of ensure_annotation?\n",
    "#### ->this a function and we called this is decorator \n",
    "#### ->our requirement is multiple with two different data type in function and function is running correnctly but that is wrong  then how to raise that is wrong. we can know by the help of ensure_annotations decorator "
   ]
  },
  {
   "cell_type": "code",
   "execution_count": null,
   "id": "03d162a9-7645-4278-997f-b052b8268f4e",
   "metadata": {},
   "outputs": [],
   "source": [
    "def multiplication(x:int, y:int)->int:\n",
    "    return x*y\n"
   ]
  },
  {
   "cell_type": "code",
   "execution_count": null,
   "id": "bb4ea58b-2f75-4a05-8be0-35fccf1f0054",
   "metadata": {},
   "outputs": [],
   "source": [
    "product_value = multiplication(2, 3)\n",
    "print(f\"the multiplication of x*y value is: {product_value}\") #the out is correct"
   ]
  },
  {
   "cell_type": "code",
   "execution_count": null,
   "id": "f833271d-ede4-43f9-844e-98fa6688133c",
   "metadata": {},
   "outputs": [],
   "source": [
    "product_value = multiplication(2, '3')\n",
    "print(f\"the multiplication of x*y value is: {product_value}\") #the out is wrong because we defined return type is int then to solve this type problem"
   ]
  },
  {
   "cell_type": "code",
   "execution_count": null,
   "id": "0a48bfb3-9079-4f14-bd0a-55c190770bd0",
   "metadata": {},
   "outputs": [],
   "source": [
    "from ensure import ensure_annotations\n",
    "@ensure_annotations\n",
    "def multiplication(x:int, y:int)->int:\n",
    "    return x*y\n"
   ]
  },
  {
   "cell_type": "code",
   "execution_count": null,
   "id": "5dd6a198-73a0-4b6d-b6ca-e68465a84bc7",
   "metadata": {},
   "outputs": [],
   "source": [
    "product_value = multiplication(2, 3)\n",
    "print(f\"the multiplication of x*y value is: {product_value}\") #the out is correct"
   ]
  },
  {
   "cell_type": "code",
   "execution_count": null,
   "id": "e38ccb0e-30d5-45f4-9e08-246fcf1085f1",
   "metadata": {},
   "outputs": [],
   "source": [
    "product_value = multiplication(2, '3')\n",
    "print(f\"the multiplication of x*y value is: {product_value}\") #the out is wrong because we defined return type is int then to solve this type problem with ensure_annotations decorator"
   ]
  },
  {
   "cell_type": "markdown",
   "id": "4cb68099-8ef8-439a-ac34-87bb89f3c82e",
   "metadata": {},
   "source": [
    "### importance of windows path?\n",
    "### -->Path class will make windows ptah"
   ]
  },
  {
   "cell_type": "code",
   "execution_count": 2,
   "id": "5a2e5ee8-805b-4a3e-8885-c0d55fb652ab",
   "metadata": {},
   "outputs": [],
   "source": [
    "import pathlib"
   ]
  },
  {
   "cell_type": "code",
   "execution_count": null,
   "id": "721f70a5-e8cd-4a13-a44c-037e29cd5835",
   "metadata": {},
   "outputs": [],
   "source": [
    "from pathlib import Path\n",
    "Path(\"/\")"
   ]
  }
 ],
 "metadata": {
  "kernelspec": {
   "display_name": "Python 3 (ipykernel)",
   "language": "python",
   "name": "python3"
  },
  "language_info": {
   "codemirror_mode": {
    "name": "ipython",
    "version": 3
   },
   "file_extension": ".py",
   "mimetype": "text/x-python",
   "name": "python",
   "nbconvert_exporter": "python",
   "pygments_lexer": "ipython3",
   "version": "3.11.5"
  }
 },
 "nbformat": 4,
 "nbformat_minor": 5
}
