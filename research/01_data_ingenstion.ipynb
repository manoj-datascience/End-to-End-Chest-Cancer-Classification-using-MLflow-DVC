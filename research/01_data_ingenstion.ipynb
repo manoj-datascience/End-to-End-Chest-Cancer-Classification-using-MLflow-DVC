{
 "cells": [
  {
   "cell_type": "markdown",
   "id": "d2e83d9f-19d1-4a83-b23f-1268d56bb1c5",
   "metadata": {},
   "source": [
    "### 1)constant==>__init__.py\n",
    "### 2) utilis==>common.py\n",
    "### 3) entity==>config_entity.py"
   ]
  },
  {
   "cell_type": "code",
   "execution_count": 1,
   "id": "b6297a38-8b46-4d82-9a2a-ce7446a1e48a",
   "metadata": {},
   "outputs": [],
   "source": [
    "from cnnClassifier.constants import (PARAMS_FILE_PATH, CONFIG_FILE_PATH)"
   ]
  },
  {
   "cell_type": "code",
   "execution_count": 2,
   "id": "3dbc9314-8160-4d4a-b6c7-03cceb19a809",
   "metadata": {},
   "outputs": [
    {
     "name": "stdout",
     "output_type": "stream",
     "text": [
      "D:\\project\\entbappy(Bappy Ahmed)\\End-to-End-Chest-Cancer-Classification-using-MLflow-DVC\\config\\config.yaml\n"
     ]
    }
   ],
   "source": [
    "print(CONFIG_FILE_PATH)"
   ]
  },
  {
   "cell_type": "code",
   "execution_count": 3,
   "id": "07371564-bf43-4f7f-b3c2-1edc05817e35",
   "metadata": {
    "scrolled": true
   },
   "outputs": [
    {
     "data": {
      "text/plain": [
       "['Box',\n",
       " 'BoxError',\n",
       " 'BoxKeyError',\n",
       " 'BoxList',\n",
       " 'ConfigBox',\n",
       " 'DDBox',\n",
       " 'SBox',\n",
       " '__all__',\n",
       " '__author__',\n",
       " '__builtins__',\n",
       " '__cached__',\n",
       " '__doc__',\n",
       " '__file__',\n",
       " '__loader__',\n",
       " '__name__',\n",
       " '__package__',\n",
       " '__path__',\n",
       " '__spec__',\n",
       " '__version__',\n",
       " 'box',\n",
       " 'box_from_file',\n",
       " 'box_from_string',\n",
       " 'box_list',\n",
       " 'config_box',\n",
       " 'converters',\n",
       " 'exceptions',\n",
       " 'from_file',\n",
       " 'shorthand_box']"
      ]
     },
     "execution_count": 3,
     "metadata": {},
     "output_type": "execute_result"
    }
   ],
   "source": [
    "import box\n",
    "dir(box)"
   ]
  },
  {
   "cell_type": "code",
   "execution_count": 4,
   "id": "d15e4937-9021-430e-93f7-0f56a1685e04",
   "metadata": {},
   "outputs": [],
   "source": [
    "import yaml\n",
    "from box import ConfigBox\n",
    "from box.exceptions import BoxValueError\n",
    "from ensure import ensure_annotations\n",
    "from pathlib import Path\n",
    "import os\n",
    "@ensure_annotations\n",
    "def read_yaml(file_path: Path)-> ConfigBox:\n",
    "    try:\n",
    "        with open(file_path) as yaml_file:\n",
    "            content = yaml.safe_load(yaml_file)\n",
    "        return ConfigBox(content)\n",
    "    except BoxValueError:\n",
    "        raise ValueError(\"yaml file is empty\")\n",
    "    except Exception as e:\n",
    "        raise e\n",
    "\n",
    "\n",
    "@ensure_annotations\n",
    "def create_directories(path_to_directories:list, verbose=True):\n",
    "    for path in path_to_directories:\n",
    "        os.makedirs(path, exist_ok=True)\n",
    "    if verbose:\n",
    "        logger.info(f\"the file created at: {path}\")\n",
    "\n",
    "@ensure_annotations\n",
    "def get_size(path: Path) -> str:\n",
    "    \"\"\"get size in KB\n",
    "\n",
    "    Args:\n",
    "        path (Path): path of the file\n",
    "\n",
    "    Returns:\n",
    "        str: size in KB\n",
    "    \"\"\"\n",
    "    size_in_kb = round(os.path.getsize(path)/1024)\n",
    "    return f\"~ {size_in_kb} KB\"\n"
   ]
  },
  {
   "cell_type": "markdown",
   "id": "5dc081e8-7a43-43f0-bb27-cb2d1e3c082d",
   "metadata": {},
   "source": [
    "### importance of dataclass decorator?\n",
    "#### dataclass is used for storing data in class and attribute value cann't change with frozen=True"
   ]
  },
  {
   "cell_type": "code",
   "execution_count": 5,
   "id": "deed5490-60d6-41e1-9e36-179bbee38f7f",
   "metadata": {},
   "outputs": [],
   "source": [
    "import dataclasses"
   ]
  },
  {
   "cell_type": "code",
   "execution_count": 6,
   "id": "74dab566-d330-4600-aa59-e8b7bb49a918",
   "metadata": {},
   "outputs": [],
   "source": [
    "from dataclasses import dataclass\n",
    "\n",
    "@dataclass(frozen=True) #forzen=True it is a immutalbe, we can't cahange attribute values\n",
    "class DataIngestionConfigEntity:\n",
    "    root_dir: Path\n",
    "    source_URL: Path\n",
    "    local_data_file: Path\n",
    "    unzip_dir: Path"
   ]
  },
  {
   "cell_type": "markdown",
   "id": "9bcc785a-947f-47c0-b0c5-e01161400592",
   "metadata": {},
   "source": [
    "### 4) config in src file \n"
   ]
  },
  {
   "cell_type": "code",
   "execution_count": 7,
   "id": "fe31dc58-d07a-4aab-8828-02877a9a1648",
   "metadata": {},
   "outputs": [],
   "source": [
    "import gdown\n",
    "class ConfigrationManager:\n",
    "    def __init__(self, config_file_path = CONFIG_FILE_PATH, params_file_path=PARAMS_FILE_PATH):\n",
    "        self.config = read_yaml(config_file_path)\n",
    "        self.params = read_yaml(params_file_path)\n",
    "\n",
    "        create_directories([self.config.artifacts_root])\n",
    "\n",
    "    def get_data_ingenstion_config(self) -> DataIngestionConfigEntity:\n",
    "        config = self.config.data_ingestion\n",
    "        create_directories([config.root_dir])\n",
    "\n",
    "        data_entity = DataIngestionConfigEntity(root_dir=config.root_dir, source_URL=config.source_URL, local_data_file=config.local_data_file, unzip_dir=config.unzip_dir)\n",
    "\n",
    "        return data_entity"
   ]
  },
  {
   "cell_type": "markdown",
   "id": "0e3ff374-e12c-4fa7-9ac8-34ce214bc580",
   "metadata": {},
   "source": [
    "### 5) components"
   ]
  },
  {
   "cell_type": "code",
   "execution_count": 8,
   "id": "a03095be-49a0-43e5-80cc-1a9e4e96b8f4",
   "metadata": {},
   "outputs": [],
   "source": [
    "#download the data from source_url\n",
    "import gdown \n",
    "import zipfile\n",
    "\n",
    "class DataIngestion:\n",
    "    def __init__(self, config: DataIngestionConfigEntity):\n",
    "        self.config = config\n",
    "\n",
    "    def download_file(self)->str:\n",
    "        try: \n",
    "            dataset_url = self.config.source_URL\n",
    "            zip_download_dir = self.config.local_data_file\n",
    "            os.makedirs(\"artifacts/data_ingestion\", exist_ok=True)\n",
    "            logger.info(f\"Downloading data from {dataset_url} into file {zip_download_dir}\")\n",
    "\n",
    "            file_id = dataset_url.split(\"/\")[-2]\n",
    "            prefix = 'https://drive.google.com/uc?/export=download&id='\n",
    "            gdown.download(prefix+file_id,zip_download_dir)\n",
    "\n",
    "            logger.info(f\"Downloaded data from {dataset_url} into file {zip_download_dir}\")\n",
    "\n",
    "        except Exception as e:\n",
    "            raise e\n",
    "    def extract_zip_file(self):\n",
    "        \"\"\"\n",
    "        zip_file_path: str\n",
    "        Extracts the zip file into the data directory\n",
    "        Function returns None\n",
    "        \"\"\"\n",
    "        unzip_path = self.config.unzip_dir\n",
    "        os.makedirs(unzip_path, exist_ok=True)\n",
    "        with zipfile.ZipFile(self.config.local_data_file, 'r') as zip_ref:\n",
    "            zip_ref.extractall(unzip_path)"
   ]
  },
  {
   "cell_type": "markdown",
   "id": "c3f00891-e70c-443e-98bc-39d87be2f9c3",
   "metadata": {},
   "source": [
    "### 6) pipeline"
   ]
  },
  {
   "cell_type": "code",
   "execution_count": 9,
   "id": "bba76924-e9eb-482d-bbe4-ca7fa766b3d2",
   "metadata": {},
   "outputs": [
    {
     "name": "stdout",
     "output_type": "stream",
     "text": [
      "[2024-07-19 16:12:47,222: INFO: 331079319: >>>>>> stage Data Ingestion stage started <<<<<<]\n",
      "[2024-07-19 16:12:47,236: INFO: 1612917504: the file created at: artifacts]\n",
      "[2024-07-19 16:12:47,240: INFO: 1612917504: the file created at: artifacts/data_ingestion]\n",
      "[2024-07-19 16:12:47,243: INFO: 664224474: Downloading data from https://drive.google.com/file/d/1z0mreUtRmR-P-magILsDR3T7M6IkGXtY/view?usp=sharing into file artifacts/data_ingestion/data.zip]\n"
     ]
    },
    {
     "name": "stderr",
     "output_type": "stream",
     "text": [
      "Downloading...\n",
      "From (original): https://drive.google.com/uc?/export=download&id=1z0mreUtRmR-P-magILsDR3T7M6IkGXtY\n",
      "From (redirected): https://drive.google.com/uc?%2Fexport=download&id=1z0mreUtRmR-P-magILsDR3T7M6IkGXtY&confirm=t&uuid=4c4e205d-0d80-4a64-9a37-d5bb450d3beb\n",
      "To: D:\\project\\entbappy(Bappy Ahmed)\\End-to-End-Chest-Cancer-Classification-using-MLflow-DVC\\research\\artifacts\\data_ingestion\\data.zip\n",
      "100%|██████████| 49.0M/49.0M [00:02<00:00, 22.7MB/s]"
     ]
    },
    {
     "name": "stdout",
     "output_type": "stream",
     "text": [
      "[2024-07-19 16:12:54,418: INFO: 664224474: Downloaded data from https://drive.google.com/file/d/1z0mreUtRmR-P-magILsDR3T7M6IkGXtY/view?usp=sharing into file artifacts/data_ingestion/data.zip]\n"
     ]
    },
    {
     "name": "stderr",
     "output_type": "stream",
     "text": [
      "\n"
     ]
    },
    {
     "name": "stdout",
     "output_type": "stream",
     "text": [
      "[2024-07-19 16:12:55,559: INFO: 331079319: >>>>>> stage Data Ingestion stage completed <<<<<<\n",
      "\n",
      "x==========x]\n"
     ]
    }
   ],
   "source": [
    "from cnnClassifier import logger\n",
    "STAGE_NAME = \"Data Ingestion stage\"\n",
    "\n",
    "class DataIngestionTrainingPipeline:\n",
    "    def __init__(self):\n",
    "        pass\n",
    "\n",
    "    def main(self):\n",
    "        config = ConfigrationManager()\n",
    "        data_ingestion_config = config.get_data_ingenstion_config()\n",
    "        data_ingestion = DataIngestion(config=data_ingestion_config)\n",
    "        data_ingestion.download_file()\n",
    "        data_ingestion.extract_zip_file()\n",
    "\n",
    "\n",
    "\n",
    "\n",
    "if __name__ == '__main__':\n",
    "    try:\n",
    "        logger.info(f\">>>>>> stage {STAGE_NAME} started <<<<<<\")\n",
    "        obj = DataIngestionTrainingPipeline()\n",
    "        obj.main()\n",
    "        logger.info(f\">>>>>> stage {STAGE_NAME} completed <<<<<<\\n\\nx==========x\")\n",
    "    except Exception as e:\n",
    "        logger.exception(e)\n",
    "        raise e"
   ]
  },
  {
   "cell_type": "code",
   "execution_count": null,
   "id": "c523a001-5399-4f93-a00c-1f856bac9119",
   "metadata": {},
   "outputs": [],
   "source": []
  }
 ],
 "metadata": {
  "kernelspec": {
   "display_name": "Python 3 (ipykernel)",
   "language": "python",
   "name": "python3"
  },
  "language_info": {
   "codemirror_mode": {
    "name": "ipython",
    "version": 3
   },
   "file_extension": ".py",
   "mimetype": "text/x-python",
   "name": "python",
   "nbconvert_exporter": "python",
   "pygments_lexer": "ipython3",
   "version": "3.11.5"
  }
 },
 "nbformat": 4,
 "nbformat_minor": 5
}
